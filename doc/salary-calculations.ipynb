{
 "cells": [
  {
   "cell_type": "markdown",
   "metadata": {},
   "source": [
    "# Calculating staff on-costs\n",
    "\n",
    "This notebook captures a discussion on on-cost calculation for staff.\n",
    "\n",
    "## Simple model\n",
    "\n",
    "Firstly, a refresher, the ``ucamoncosts`` module implements a convenience function which can calculate total annual on-costs for a staff member:"
   ]
  },
  {
   "cell_type": "code",
   "execution_count": 1,
   "metadata": {},
   "outputs": [
    {
     "data": {
      "text/plain": [
       "OnCost(salary=25000, exchange=-2000, employer_pension=6500, employer_nic=2011, apprenticeship_levy=115, total=31626)"
      ]
     },
     "execution_count": 1,
     "metadata": {},
     "output_type": "execute_result"
    }
   ],
   "source": [
    "import ucamstaffoncosts\n",
    "\n",
    "ucamstaffoncosts.on_cost(25000, scheme=ucamstaffoncosts.Scheme.USS_EXCHANGE)"
   ]
  },
  {
   "cell_type": "markdown",
   "metadata": {},
   "source": [
    "So far, so simple. The complication comes when the staff member's salary changes over the year. Expected salary changes ocurr at different points of the year:\n",
    "\n",
    "* On employment anniversary dates there is a spine point increase if the member still have non-contribution points available in their grade.\n",
    "* On 1st August, we plan for a salary increase due to CPI of 2%.\n",
    "\n",
    "In addition to this, changes in circumstance could cause salary change.\n",
    "\n",
    "To make the code below simple, we will calculate an array of salaries for a staff member for each day of the (leap) tax year: let $S_i$ be the salary for day $i$ of the tax year where $i$ ranges between $0$ and $N-1$, and $t$ be the current day index."
   ]
  },
  {
   "cell_type": "code",
   "execution_count": 2,
   "metadata": {},
   "outputs": [],
   "source": [
    "import numpy as np\n",
    "\n",
    "# Salaries for someone in a leap-year. The first day of this year is the first day of the tax year.\n",
    "N = 366 # a leap year\n",
    "S = np.zeros(N, dtype=np.int)\n",
    "S[:30] = 25000\n",
    "S[30:120] = 26000\n",
    "S[120:220] = 27000\n",
    "S[220:] = 28000\n",
    "\n",
    "# \"Now\" is day 80 of the year.\n",
    "t = 80"
   ]
  },
  {
   "cell_type": "markdown",
   "metadata": {},
   "source": [
    "We can plot the salary of the staff member over the tax year:"
   ]
  },
  {
   "cell_type": "code",
   "execution_count": 3,
   "metadata": {},
   "outputs": [
    {
     "name": "stdout",
     "output_type": "stream",
     "text": [
      "Populating the interactive namespace from numpy and matplotlib\n"
     ]
    }
   ],
   "source": [
    "# Enable plotting support\n",
    "%pylab inline"
   ]
  },
  {
   "cell_type": "code",
   "execution_count": 4,
   "metadata": {},
   "outputs": [
    {
     "data": {
      "image/png": "[encoded data removed]",
      "text/plain": [
       "<matplotlib.figure.Figure at 0x7f4adbbeb1d0>"
      ]
     },
     "metadata": {},
     "output_type": "display_data"
    }
   ],
   "source": [
    "plot(S, label='Base salary')\n",
    "vlines([t], S.min(), S.max(), label='Now')\n",
    "xlabel('Day number'); ylabel('£'); title('Salary over the tax year'); legend(loc='best')\n",
    "None # to suppress output of legend object's repr"
   ]
  },
  {
   "cell_type": "markdown",
   "metadata": {},
   "source": [
    "The total taxable salary, $S'_T$ for the year is simply the sum of each daily salary:\n",
    "$$\n",
    "S'_N = \\frac{1}{N} \\sum_{0 \\le i \\lt N} S_i\n",
    "$$"
   ]
  },
  {
   "cell_type": "code",
   "execution_count": 5,
   "metadata": {},
   "outputs": [],
   "source": [
    "Sprime_N = S.sum() / N"
   ]
  },
  {
   "cell_type": "markdown",
   "metadata": {},
   "source": [
    "We can use this total to calculate the total on-cost, $C_T$, for the year:"
   ]
  },
  {
   "cell_type": "code",
   "execution_count": 6,
   "metadata": {},
   "outputs": [
    {
     "name": "stdout",
     "output_type": "stream",
     "text": [
      "Total on-cost: 34235\n"
     ]
    }
   ],
   "source": [
    "C_T = ucamstaffoncosts.on_cost(Sprime_N, scheme=ucamstaffoncosts.Scheme.USS_EXCHANGE).total\n",
    "print(f'Total on-cost: {C_T:d}')"
   ]
  },
  {
   "cell_type": "markdown",
   "metadata": {},
   "source": [
    "In order to model expenditure and commitments, we weight the year by base salary earned up until that point. The base salary earned up to but not including day $t$, $S'_t$ is given by:\n",
    "$$\n",
    "S'_t = \\frac{1}{N} \\sum_{0 \\le i \\lt t} S_i\n",
    "$$"
   ]
  },
  {
   "cell_type": "code",
   "execution_count": 7,
   "metadata": {},
   "outputs": [
    {
     "name": "stdout",
     "output_type": "stream",
     "text": [
      "Base earned salary so far: 5601\n"
     ]
    }
   ],
   "source": [
    "Sprime_t = S[:t].sum() / N\n",
    "print(f'Base earned salary so far: {Sprime_t:.0f}')"
   ]
  },
  {
   "cell_type": "markdown",
   "metadata": {},
   "source": [
    "Therefore the expenditure for the year, $E$ is\n",
    "$$\n",
    "\\frac{S'_t}{S'_N} C_T\n",
    "$$"
   ]
  },
  {
   "cell_type": "code",
   "execution_count": 8,
   "metadata": {},
   "outputs": [
    {
     "name": "stdout",
     "output_type": "stream",
     "text": [
      "Expenditure so far: 7105\n"
     ]
    }
   ],
   "source": [
    "E = (Sprime_t / Sprime_N) * C_T\n",
    "print(f'Expenditure so far: {E:.0f}')"
   ]
  },
  {
   "cell_type": "markdown",
   "metadata": {},
   "source": [
    "The expected commitment is simply the expected total on-cost minus the expenditure:"
   ]
  },
  {
   "cell_type": "code",
   "execution_count": 9,
   "metadata": {},
   "outputs": [
    {
     "name": "stdout",
     "output_type": "stream",
     "text": [
      "Commitment for remainder of year: 27130\n"
     ]
    }
   ],
   "source": [
    "commitment = C_T - E\n",
    "print(f'Commitment for remainder of year: {commitment:.0f}')"
   ]
  },
  {
   "cell_type": "markdown",
   "metadata": {},
   "source": [
    "Now, suppose that the staff member's contract ends on day $t'$ where $t' > t$. If we assume the staff member leaves the University at this date, we simply set $N = t'$ and perform the calculation above."
   ]
  },
  {
   "cell_type": "markdown",
   "metadata": {},
   "source": [
    "## Optimisations\n",
    "\n",
    "Obviously the code above is non-optimal. There is no need to sum up salaries over days. We can simply record the change points and treat the salary as constant between them. A more efficient implementation is left as an exercise for the reader."
   ]
  }
 ],
 "metadata": {
  "kernelspec": {
   "display_name": "Python 3",
   "language": "python",
   "name": "python3"
  },
  "language_info": {
   "codemirror_mode": {
    "name": "ipython",
    "version": 3
   },
   "file_extension": ".py",
   "mimetype": "text/x-python",
   "name": "python",
   "nbconvert_exporter": "python",
   "pygments_lexer": "ipython3",
   "version": "3.6.5"
  }
 },
 "nbformat": 4,
 "nbformat_minor": 2
}
